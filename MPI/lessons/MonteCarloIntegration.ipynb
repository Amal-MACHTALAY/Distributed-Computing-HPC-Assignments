{
 "cells": [
  {
   "cell_type": "markdown",
   "metadata": {},
   "source": [
    "# Monte Carlo Integration\n",
    "\n",
    "- The area under the curve gives the integral (figure)\n",
    "- Let the total number of scaled random numbers generates be $N$.\n",
    "- Let $M$ the number of points under the curve.\n",
    "\n",
    "![demo](figures/MonteCarloIntegration1.png)\n",
    "\n",
    "$$\\frac{\\text{Area under the curve}}{\\text{Area of the rectangle}}=\\frac{\\int f dx }{(b-a)\\times (f_{max}-f_{min})}=\\frac{M}{N}$$\n",
    "\n",
    "Then $$\\int f dx=\\frac{M}{N}\\times (b-a)\\times (f_{max}-f_{min})$$"
   ]
  },
  {
   "cell_type": "code",
   "execution_count": 7,
   "metadata": {},
   "outputs": [
    {
     "name": "stdout",
     "output_type": "stream",
     "text": [
      "Integral of sin(x) between 0 and 3.141592653589793 = 1.9509266261965765\n"
     ]
    }
   ],
   "source": [
    "import random\n",
    "import numpy as np\n",
    "def f(x):\n",
    "    return np.sin(x)\n",
    "a=0\n",
    "b=np.pi # b>a\n",
    "N=1000\n",
    "x=np.linspace(a,b,N)\n",
    "y=f(x)\n",
    "fmin=min(y)\n",
    "fmax=max(y)\n",
    "Area_rectangle=abs(b-a)*abs(fmax-fmin)\n",
    "\n",
    "random.seed(45)\n",
    "def MonteCarloIntegration(n):\n",
    "    random.seed(45)\n",
    "    m=0\n",
    "    for i in range(n):\n",
    "        # 0<= random.random() <=1\n",
    "        x_random=a+(b-a)*random.random()\n",
    "        y_random=fmin+(fmax-fmin)*random.random()\n",
    "        if y_random<=f(x_random):\n",
    "            m+=1\n",
    "    return m\n",
    "M=MonteCarloIntegration(N)\n",
    "integral=(M/N)*Area_rectangle\n",
    "print(\"Integral of sin(x) between {a} and {b} = {L}\".format(a=a,b=b,L=integral))\n",
    "# Solution : 2.0"
   ]
  }
 ],
 "metadata": {
  "kernelspec": {
   "display_name": "Python 3",
   "language": "python",
   "name": "python3"
  },
  "language_info": {
   "codemirror_mode": {
    "name": "ipython",
    "version": 3
   },
   "file_extension": ".py",
   "mimetype": "text/x-python",
   "name": "python",
   "nbconvert_exporter": "python",
   "pygments_lexer": "ipython3",
   "version": "3.8.5"
  }
 },
 "nbformat": 4,
 "nbformat_minor": 4
}
