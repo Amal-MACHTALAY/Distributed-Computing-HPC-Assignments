{
 "cells": [
  {
   "cell_type": "code",
   "execution_count": 5,
   "metadata": {},
   "outputs": [
    {
     "name": "stdout",
     "output_type": "stream",
     "text": [
      "0.24802047265182578\n",
      "4\n",
      "3\n",
      "4\n"
     ]
    }
   ],
   "source": [
    "import numpy as np\n",
    "xmin = 0\n",
    "xmax = 3*np.pi/2\n",
    "nbx = 20  # max nbr of iterations\n",
    "#nbi = nbx - 1 # nombre d'intervalles\n",
    "dx = (xmax-xmin)/(nbx-1) # space step\n",
    "print(dx)\n",
    "SIZE=4\n",
    "## distributing automatically the interval [xmin; xmax] between processors\n",
    "nbi = int((nbx-1)/SIZE) \n",
    "print(nbi)\n",
    "print((nbx-1)%SIZE)\n",
    "print(nbx-SIZE*nbi)"
   ]
  },
  {
   "cell_type": "code",
   "execution_count": 6,
   "metadata": {},
   "outputs": [
    {
     "name": "stdout",
     "output_type": "stream",
     "text": [
      "None\n"
     ]
    }
   ],
   "source": [
    "import random\n",
    "print(random.seed(42))"
   ]
  }
 ],
 "metadata": {
  "kernelspec": {
   "display_name": "Python 3",
   "language": "python",
   "name": "python3"
  },
  "language_info": {
   "codemirror_mode": {
    "name": "ipython",
    "version": 3
   },
   "file_extension": ".py",
   "mimetype": "text/x-python",
   "name": "python",
   "nbconvert_exporter": "python",
   "pygments_lexer": "ipython3",
   "version": "3.8.5"
  }
 },
 "nbformat": 4,
 "nbformat_minor": 4
}
